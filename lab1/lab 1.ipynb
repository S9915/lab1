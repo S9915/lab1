{
 "cells": [
  {
   "cell_type": "markdown",
   "metadata": {},
   "source": [
    "# Лабораторная работа 1. Язык программирования Python.¶\n",
    "\n",
    "Задание 1\n",
    "\n",
    "Дан массив вида [a,b,c,d,e,a,a,b,c]\n",
    "\n",
    "a) Преобразуйте его в словарь вида: <br>\n",
    "{\n",
    "<p style=\"margin-left: 20px\"> a: [0,5,6] </p>\n",
    "<p style=\"margin-left: 20px\"> b: [1,7] </p>\n",
    "<p style=\"margin-left: 20px\"> ... </p>\n",
    "<p style=\"margin-left: 20px\"> e: [4] </p>\n",
    "} <br>\n",
    "\n",
    "б) Сделайте это в одну строчку кода (разрешается с меньшей эффективностью) <br>\n",
    "\n",
    "Решение:"
   ]
  },
  {
   "cell_type": "code",
   "execution_count": 1,
   "metadata": {},
   "outputs": [
    {
     "data": {
      "text/plain": [
       "{'a': [0, 5, 6], 'b': [1, 7], 'c': [2, 8], 'd': [3], 'e': [4]}"
      ]
     },
     "execution_count": 1,
     "metadata": {},
     "output_type": "execute_result"
    }
   ],
   "source": [
    "def ardic(array):\n",
    "    return {array[i]: [item[0] for item in list(enumerate(array)) if item[1] == array[i]] for i in range(len(array))}\n",
    "\n",
    "ardic(['a', 'b', 'c', 'd', 'e', 'a', 'a', 'b', 'c'])"
   ]
  },
  {
   "cell_type": "markdown",
   "metadata": {},
   "source": [
    "Задание 2 <br>\n",
    "\n",
    "Метрика Жаккара (Jaccard similarity) - способ измерения сходства между множествами. Вычисляется как $$ \\frac{|A \\cap B|}{|A \\cup B|}, \\\\ $$т.е. размер пересечения поделить на размер объединения множеств. <br>\n",
    "\n",
    "Реализуйте вычисление метрики не используя методов intersection и union типа set и не создавая промежуточных множеств.\n",
    "\n",
    "Решение:"
   ]
  },
  {
   "cell_type": "code",
   "execution_count": 5,
   "metadata": {},
   "outputs": [
    {
     "name": "stdout",
     "output_type": "stream",
     "text": [
      "set 1: {1, 2, 4, 6, 10, 12}\n",
      "set 2: {2, 3, 4, 5, 11, 12, 13, 15}\n",
      "\n",
      "Метрика Жаккара: {0.2727} \n",
      "\n",
      "set 1: {2, 7, 10, 11, 12, 15}\n",
      "set 2: {1, 12, 9}\n",
      "\n",
      "Метрика Жаккара: {0.125} \n",
      "\n",
      "set 1: {3, 8, 12, 13, 15}\n",
      "set 2: {3, 6, 8, 9, 11, 14}\n",
      "\n",
      "Метрика Жаккара: {0.2222} \n",
      "\n"
     ]
    }
   ],
   "source": [
    "def jaccar(set1, set2):\n",
    "    union = len(set1) + len(set2)\n",
    "    inter = 0\n",
    "    for item in set1:\n",
    "        if item in set2:\n",
    "            inter += 1\n",
    "            union -= 1\n",
    "    return inter / union\n",
    "\n",
    "import random as rnd\n",
    "for i in range(3):\n",
    "    set1 = set([rnd.randint(1, 15) for i in range(rnd.randint(5, 10))])\n",
    "    set2 = set([rnd.randint(1, 15) for i in range(rnd.randint(5, 10))])\n",
    "    print(f\"set 1: {set1}\", f\"set 2: {set2}\", '', sep='\\n')\n",
    "    print(\"Метрика Жаккара: \" + str({round(jaccar(set1, set2), 4)}), '\\n')"
   ]
  }
 ],
 "metadata": {
  "kernelspec": {
   "display_name": "Python 3",
   "language": "python",
   "name": "python3"
  },
  "language_info": {
   "codemirror_mode": {
    "name": "ipython",
    "version": 3
   },
   "file_extension": ".py",
   "mimetype": "text/x-python",
   "name": "python",
   "nbconvert_exporter": "python",
   "pygments_lexer": "ipython3",
   "version": "3.6.11"
  }
 },
 "nbformat": 4,
 "nbformat_minor": 2
}
